{
  "nbformat": 4,
  "nbformat_minor": 0,
  "metadata": {
    "colab": {
      "name": "t5_issue_summarizer.ipynb",
      "provenance": []
    },
    "kernelspec": {
      "name": "python3",
      "display_name": "Python 3"
    }
  },
  "cells": [
    {
      "cell_type": "code",
      "metadata": {
        "id": "Mhgc1lFpXD9r",
        "colab": {
          "base_uri": "https://localhost:8080/",
          "height": 34
        },
        "outputId": "b3556012-1901-4742-b446-54345888c6af"
      },
      "source": [
        "from google.colab import drive\n",
        "drive.mount('/content/gdrive',force_remount=True)"
      ],
      "execution_count": null,
      "outputs": [
        {
          "output_type": "stream",
          "text": [
            "Mounted at /content/gdrive\n"
          ],
          "name": "stdout"
        }
      ]
    },
    {
      "cell_type": "code",
      "metadata": {
        "id": "T2NdDvcHQmlK",
        "colab": {
          "base_uri": "https://localhost:8080/",
          "height": 50
        },
        "outputId": "2b01aebf-5ae1-4a8e-e059-a9622225f13e"
      },
      "source": [
        "!unzip '/content/gdrive/My Drive/arvix/arvix_files.zip' -d '/content/gdrive/My Drive/arvix/'"
      ],
      "execution_count": null,
      "outputs": [
        {
          "output_type": "stream",
          "text": [
            "Archive:  /content/gdrive/My Drive/arvix/arvix_files.zip\n",
            "  inflating: /content/gdrive/My Drive/arvix/arxiv-metadata-oai-snapshot.json  \n"
          ],
          "name": "stdout"
        }
      ]
    },
    {
      "cell_type": "code",
      "metadata": {
        "id": "KetxSRrjRnSU"
      },
      "source": [
        ""
      ],
      "execution_count": null,
      "outputs": []
    },
    {
      "cell_type": "code",
      "metadata": {
        "id": "AhpArawAPX_9"
      },
      "source": [
        "import pandas as pd\n",
        "data = pd.read_csv('/content/gdrive/My Drive/github/issues/github_issues.csv')"
      ],
      "execution_count": null,
      "outputs": []
    },
    {
      "cell_type": "code",
      "metadata": {
        "id": "GTmlGVOuP7Mj",
        "colab": {
          "base_uri": "https://localhost:8080/",
          "height": 195
        },
        "outputId": "df9ed02d-6e14-46d8-977b-c6608264b73f"
      },
      "source": [
        "data.head()"
      ],
      "execution_count": null,
      "outputs": [
        {
          "output_type": "execute_result",
          "data": {
            "text/html": [
              "<div>\n",
              "<style scoped>\n",
              "    .dataframe tbody tr th:only-of-type {\n",
              "        vertical-align: middle;\n",
              "    }\n",
              "\n",
              "    .dataframe tbody tr th {\n",
              "        vertical-align: top;\n",
              "    }\n",
              "\n",
              "    .dataframe thead th {\n",
              "        text-align: right;\n",
              "    }\n",
              "</style>\n",
              "<table border=\"1\" class=\"dataframe\">\n",
              "  <thead>\n",
              "    <tr style=\"text-align: right;\">\n",
              "      <th></th>\n",
              "      <th>issue_url</th>\n",
              "      <th>issue_title</th>\n",
              "      <th>body</th>\n",
              "    </tr>\n",
              "  </thead>\n",
              "  <tbody>\n",
              "    <tr>\n",
              "      <th>0</th>\n",
              "      <td>\"https://github.com/zhangyuanwei/node-images/i...</td>\n",
              "      <td>can't load the addon. issue to: https://github...</td>\n",
              "      <td>can't load the addon. issue to: https://github...</td>\n",
              "    </tr>\n",
              "    <tr>\n",
              "      <th>1</th>\n",
              "      <td>\"https://github.com/Microsoft/pxt/issues/2543\"</td>\n",
              "      <td>hcl accessibility a11yblocking a11ymas mas4.2....</td>\n",
              "      <td>user experience: user who depends on screen re...</td>\n",
              "    </tr>\n",
              "    <tr>\n",
              "      <th>2</th>\n",
              "      <td>\"https://github.com/MatisiekPL/Czekolada/issue...</td>\n",
              "      <td>issue 1265: issue 1264: issue 1261: issue 1260...</td>\n",
              "      <td>┆attachments: &lt;a href= https:&amp; x2f;&amp; x2f;githu...</td>\n",
              "    </tr>\n",
              "    <tr>\n",
              "      <th>3</th>\n",
              "      <td>\"https://github.com/MatisiekPL/Czekolada/issue...</td>\n",
              "      <td>issue 1266: issue 1263: issue 1262: issue 1259...</td>\n",
              "      <td>gitlo = github x trello\\n---\\nthis board is no...</td>\n",
              "    </tr>\n",
              "    <tr>\n",
              "      <th>4</th>\n",
              "      <td>\"https://github.com/MatisiekPL/Czekolada/issue...</td>\n",
              "      <td>issue 1288: issue 1285: issue 1284: issue 1281...</td>\n",
              "      <td>┆attachments: &lt;a href= https:&amp; x2f;&amp; x2f;githu...</td>\n",
              "    </tr>\n",
              "  </tbody>\n",
              "</table>\n",
              "</div>"
            ],
            "text/plain": [
              "                                           issue_url  ...                                               body\n",
              "0  \"https://github.com/zhangyuanwei/node-images/i...  ...  can't load the addon. issue to: https://github...\n",
              "1     \"https://github.com/Microsoft/pxt/issues/2543\"  ...  user experience: user who depends on screen re...\n",
              "2  \"https://github.com/MatisiekPL/Czekolada/issue...  ...  ┆attachments: <a href= https:& x2f;& x2f;githu...\n",
              "3  \"https://github.com/MatisiekPL/Czekolada/issue...  ...  gitlo = github x trello\\n---\\nthis board is no...\n",
              "4  \"https://github.com/MatisiekPL/Czekolada/issue...  ...  ┆attachments: <a href= https:& x2f;& x2f;githu...\n",
              "\n",
              "[5 rows x 3 columns]"
            ]
          },
          "metadata": {
            "tags": []
          },
          "execution_count": 4
        }
      ]
    },
    {
      "cell_type": "code",
      "metadata": {
        "id": "pG-RSWpnrkaB",
        "colab": {
          "base_uri": "https://localhost:8080/",
          "height": 50
        },
        "outputId": "df118b73-8eda-49f3-dbc3-3bcb31401161"
      },
      "source": [
        "asa = data.sample(1)\n",
        "asa = asa.body.to_list()[0]"
      ],
      "execution_count": null,
      "outputs": [
        {
          "output_type": "stream",
          "text": [
            "2047280    hello, i'm a college student, and i'm new to t...\n",
            "Name: body, dtype: object\n"
          ],
          "name": "stdout"
        }
      ]
    },
    {
      "cell_type": "code",
      "metadata": {
        "id": "nZ-O5ZhYsFgz",
        "colab": {
          "base_uri": "https://localhost:8080/",
          "height": 102
        },
        "outputId": "1e9e4e95-18d4-4d3a-d1f0-a2a9e57dbd11"
      },
      "source": [
        ""
      ],
      "execution_count": null,
      "outputs": [
        {
          "output_type": "execute_result",
          "data": {
            "application/vnd.google.colaboratory.intrinsic+json": {
              "type": "string"
            },
            "text/plain": [
              "\"hello, i'm a college student, and i'm new to this. now i want to ask some questions about the openpose3d ,i also want to use 2 playstaion3eyes to change the flir camera. i have seen some issues with it said i have to change the pointgrey class.however, i can't figure out how to change it.do i have to change all the function about spinnaker?just like this one: cv::mat pointgreytocvmat const spinnaker::imageptr &imageptr and change every function used in spinnaker to other function which in my cl ps3 eye multicam sdk ? i have downloaded the cl ps3 eye multicam sdk from https://codelaboratories.com/downloads/ url however ,i found not all the function of this sdk have the same features to function in spinnaker. please tell me which part needs to be changed?\""
            ]
          },
          "metadata": {
            "tags": []
          },
          "execution_count": 20
        }
      ]
    },
    {
      "cell_type": "code",
      "metadata": {
        "id": "2atIRoskRXS0",
        "colab": {
          "base_uri": "https://localhost:8080/",
          "height": 195
        },
        "outputId": "0d44033e-40d0-46a9-905d-84d5a34b7b0c"
      },
      "source": [
        "data.tail()"
      ],
      "execution_count": null,
      "outputs": [
        {
          "output_type": "execute_result",
          "data": {
            "text/html": [
              "<div>\n",
              "<style scoped>\n",
              "    .dataframe tbody tr th:only-of-type {\n",
              "        vertical-align: middle;\n",
              "    }\n",
              "\n",
              "    .dataframe tbody tr th {\n",
              "        vertical-align: top;\n",
              "    }\n",
              "\n",
              "    .dataframe thead th {\n",
              "        text-align: right;\n",
              "    }\n",
              "</style>\n",
              "<table border=\"1\" class=\"dataframe\">\n",
              "  <thead>\n",
              "    <tr style=\"text-align: right;\">\n",
              "      <th></th>\n",
              "      <th>issue_url</th>\n",
              "      <th>issue_title</th>\n",
              "      <th>body</th>\n",
              "    </tr>\n",
              "  </thead>\n",
              "  <tbody>\n",
              "    <tr>\n",
              "      <th>5332148</th>\n",
              "      <td>\"https://github.com/bayborodin/ror-full-3/issu...</td>\n",
              "      <td>создать модуль instancecounter, содержащий сле...</td>\n",
              "      <td>методы класса: - instances, который возвращает...</td>\n",
              "    </tr>\n",
              "    <tr>\n",
              "      <th>5332149</th>\n",
              "      <td>\"https://github.com/eclipse/paho.mqtt.java/iss...</td>\n",
              "      <td>at org.eclipse.paho.client.mqttv3.internal.cli...</td>\n",
              "      <td>- bug exists release version 1.1.0 master bran...</td>\n",
              "    </tr>\n",
              "    <tr>\n",
              "      <th>5332150</th>\n",
              "      <td>\"https://github.com/rzwitserloot/lombok/issues...</td>\n",
              "      <td>java.lang.linkageerror: loader constraint viol...</td>\n",
              "      <td>java.lang.linkageerror: loader constraint viol...</td>\n",
              "    </tr>\n",
              "    <tr>\n",
              "      <th>5332151</th>\n",
              "      <td>\"https://github.com/Gizra/productivity/issues/...</td>\n",
              "      <td>node : pdoexception: sqlstate 40001 : serializ...</td>\n",
              "      <td>view details in rollbar: https://rollbar.com/b...</td>\n",
              "    </tr>\n",
              "    <tr>\n",
              "      <th>5332152</th>\n",
              "      <td>\"https://github.com/jacobmischka/coyote-grill/...</td>\n",
              "      <td>uncaught error: { error :{ errors : { domain :...</td>\n",
              "      <td>view details in rollbar: https://rollbar.com/j...</td>\n",
              "    </tr>\n",
              "  </tbody>\n",
              "</table>\n",
              "</div>"
            ],
            "text/plain": [
              "                                                 issue_url  ...                                               body\n",
              "5332148  \"https://github.com/bayborodin/ror-full-3/issu...  ...  методы класса: - instances, который возвращает...\n",
              "5332149  \"https://github.com/eclipse/paho.mqtt.java/iss...  ...  - bug exists release version 1.1.0 master bran...\n",
              "5332150  \"https://github.com/rzwitserloot/lombok/issues...  ...  java.lang.linkageerror: loader constraint viol...\n",
              "5332151  \"https://github.com/Gizra/productivity/issues/...  ...  view details in rollbar: https://rollbar.com/b...\n",
              "5332152  \"https://github.com/jacobmischka/coyote-grill/...  ...  view details in rollbar: https://rollbar.com/j...\n",
              "\n",
              "[5 rows x 3 columns]"
            ]
          },
          "metadata": {
            "tags": []
          },
          "execution_count": 8
        }
      ]
    },
    {
      "cell_type": "code",
      "metadata": {
        "id": "9THXrccHP3SG",
        "colab": {
          "base_uri": "https://localhost:8080/",
          "height": 34
        },
        "outputId": "338a6a94-b06f-4f5d-b737-f880400bfe76"
      },
      "source": [
        "data.shape"
      ],
      "execution_count": null,
      "outputs": [
        {
          "output_type": "execute_result",
          "data": {
            "text/plain": [
              "(5332153, 3)"
            ]
          },
          "metadata": {
            "tags": []
          },
          "execution_count": 3
        }
      ]
    },
    {
      "cell_type": "code",
      "metadata": {
        "id": "RPcI86I5Y7CW",
        "colab": {
          "base_uri": "https://localhost:8080/",
          "height": 554
        },
        "outputId": "e0cc5150-5ec4-4806-ae68-21ba5e1ade61"
      },
      "source": [
        "!pip install transformers==2.9.1"
      ],
      "execution_count": null,
      "outputs": [
        {
          "output_type": "stream",
          "text": [
            "Collecting transformers==2.9.1\n",
            "\u001b[?25l  Downloading https://files.pythonhosted.org/packages/22/97/7db72a0beef1825f82188a4b923e62a146271ac2ced7928baa4d47ef2467/transformers-2.9.1-py3-none-any.whl (641kB)\n",
            "\u001b[K     |████████████████████████████████| 645kB 4.3MB/s \n",
            "\u001b[?25hRequirement already satisfied: regex!=2019.12.17 in /usr/local/lib/python3.6/dist-packages (from transformers==2.9.1) (2019.12.20)\n",
            "Requirement already satisfied: filelock in /usr/local/lib/python3.6/dist-packages (from transformers==2.9.1) (3.0.12)\n",
            "Collecting tokenizers==0.7.0\n",
            "\u001b[?25l  Downloading https://files.pythonhosted.org/packages/14/e5/a26eb4716523808bb0a799fcfdceb6ebf77a18169d9591b2f46a9adb87d9/tokenizers-0.7.0-cp36-cp36m-manylinux1_x86_64.whl (3.8MB)\n",
            "\u001b[K     |████████████████████████████████| 3.8MB 17.7MB/s \n",
            "\u001b[?25hCollecting sacremoses\n",
            "\u001b[?25l  Downloading https://files.pythonhosted.org/packages/7d/34/09d19aff26edcc8eb2a01bed8e98f13a1537005d31e95233fd48216eed10/sacremoses-0.0.43.tar.gz (883kB)\n",
            "\u001b[K     |████████████████████████████████| 890kB 42.3MB/s \n",
            "\u001b[?25hRequirement already satisfied: dataclasses; python_version < \"3.7\" in /usr/local/lib/python3.6/dist-packages (from transformers==2.9.1) (0.7)\n",
            "Requirement already satisfied: numpy in /usr/local/lib/python3.6/dist-packages (from transformers==2.9.1) (1.18.5)\n",
            "Requirement already satisfied: tqdm>=4.27 in /usr/local/lib/python3.6/dist-packages (from transformers==2.9.1) (4.41.1)\n",
            "Collecting sentencepiece\n",
            "\u001b[?25l  Downloading https://files.pythonhosted.org/packages/d4/a4/d0a884c4300004a78cca907a6ff9a5e9fe4f090f5d95ab341c53d28cbc58/sentencepiece-0.1.91-cp36-cp36m-manylinux1_x86_64.whl (1.1MB)\n",
            "\u001b[K     |████████████████████████████████| 1.1MB 44.6MB/s \n",
            "\u001b[?25hRequirement already satisfied: requests in /usr/local/lib/python3.6/dist-packages (from transformers==2.9.1) (2.23.0)\n",
            "Requirement already satisfied: six in /usr/local/lib/python3.6/dist-packages (from sacremoses->transformers==2.9.1) (1.15.0)\n",
            "Requirement already satisfied: click in /usr/local/lib/python3.6/dist-packages (from sacremoses->transformers==2.9.1) (7.1.2)\n",
            "Requirement already satisfied: joblib in /usr/local/lib/python3.6/dist-packages (from sacremoses->transformers==2.9.1) (0.16.0)\n",
            "Requirement already satisfied: idna<3,>=2.5 in /usr/local/lib/python3.6/dist-packages (from requests->transformers==2.9.1) (2.10)\n",
            "Requirement already satisfied: chardet<4,>=3.0.2 in /usr/local/lib/python3.6/dist-packages (from requests->transformers==2.9.1) (3.0.4)\n",
            "Requirement already satisfied: urllib3!=1.25.0,!=1.25.1,<1.26,>=1.21.1 in /usr/local/lib/python3.6/dist-packages (from requests->transformers==2.9.1) (1.24.3)\n",
            "Requirement already satisfied: certifi>=2017.4.17 in /usr/local/lib/python3.6/dist-packages (from requests->transformers==2.9.1) (2020.6.20)\n",
            "Building wheels for collected packages: sacremoses\n",
            "  Building wheel for sacremoses (setup.py) ... \u001b[?25l\u001b[?25hdone\n",
            "  Created wheel for sacremoses: filename=sacremoses-0.0.43-cp36-none-any.whl size=893257 sha256=5396813babc25edf9abbf347400c6beb37e41aeb446ea4891b7bbe524001e683\n",
            "  Stored in directory: /root/.cache/pip/wheels/29/3c/fd/7ce5c3f0666dab31a50123635e6fb5e19ceb42ce38d4e58f45\n",
            "Successfully built sacremoses\n",
            "Installing collected packages: tokenizers, sacremoses, sentencepiece, transformers\n",
            "Successfully installed sacremoses-0.0.43 sentencepiece-0.1.91 tokenizers-0.7.0 transformers-2.9.1\n"
          ],
          "name": "stdout"
        }
      ]
    },
    {
      "cell_type": "code",
      "metadata": {
        "id": "fGTp60_IY9Vl"
      },
      "source": [
        "from transformers import T5Tokenizer, T5ForConditionalGeneration\n",
        "from torch import cuda\n",
        "device = 'cuda' if cuda.is_available() else 'cpu'"
      ],
      "execution_count": null,
      "outputs": []
    },
    {
      "cell_type": "code",
      "metadata": {
        "id": "F0v0zpGRY_co"
      },
      "source": [
        "output_dir  = '/content/gdrive/My Drive/github/issues/model_save'\n",
        "model = T5ForConditionalGeneration.from_pretrained(output_dir)\n",
        "\n",
        "tokenizer = T5Tokenizer.from_pretrained(output_dir)"
      ],
      "execution_count": null,
      "outputs": []
    },
    {
      "cell_type": "code",
      "metadata": {
        "id": "RGWViZbzZHlG",
        "colab": {
          "base_uri": "https://localhost:8080/",
          "height": 34
        },
        "outputId": "839e957a-75e6-4e69-a81e-40a850fd84f6"
      },
      "source": [
        "input_ids = tokenizer.encode(\"right now there is no logging of any kind. read up on proper app logging in angular and add it to the app. \", return_tensors=\"pt\")  # Batch size 1\n",
        "outputs = model.generate(input_ids)\n",
        "print(tokenizer.decode(outputs[0]))"
      ],
      "execution_count": null,
      "outputs": [
        {
          "output_type": "stream",
          "text": [
            "i'm trying to use angular to log in and add it to the app\n"
          ],
          "name": "stdout"
        }
      ]
    },
    {
      "cell_type": "code",
      "metadata": {
        "id": "5wz5xeeRZTCm",
        "colab": {
          "base_uri": "https://localhost:8080/",
          "height": 54
        },
        "outputId": "48df5bee-8858-43cd-9771-4eaf334f6608"
      },
      "source": [
        "text = \"im presently upgrading to 2.7.2 from 2.7.1, my automated update is not working from my site, so im just uploading the new code and replacing the .htaccess and config.php . is there any other changes that i should be aware of to make sure that the update is successfull ? \"\n",
        "input_ids = tokenizer.encode(text, return_tensors=\"pt\")  # Batch size 1\n",
        "outputs = model.generate(input_ids,max_length=100)\n",
        "print(tokenizer.decode(outputs[0]))"
      ],
      "execution_count": null,
      "outputs": [
        {
          "output_type": "stream",
          "text": [
            "i'm using a.htaccess file and i'm getting the following error:  ⁇ img width= 296 alt= screen shot 2017-06-23 at 12 57 57 am src= https://user-images.githubusercontent.com/298989/30292929-ffbddaa-dbd-11e7-8bdc-dfddff\n"
          ],
          "name": "stdout"
        }
      ]
    },
    {
      "cell_type": "code",
      "metadata": {
        "id": "X1j7wNEGZfRm",
        "colab": {
          "base_uri": "https://localhost:8080/",
          "height": 34
        },
        "outputId": "239b593b-321a-43a0-ca29-830745ee82da"
      },
      "source": [
        "text = \"i tried to enable and use yubikey on snap version but yubikey doesn't shows on the list of valid devices. i done a comparison with debian package same version 2.2.0 and works fine. so i think the problem could be related to snap access to usb devices. \"\n",
        "input_ids = tokenizer.encode(text, return_tensors=\"pt\")  # Batch size 1\n",
        "outputs = model.generate(input_ids,max_length=50)\n",
        "print(tokenizer.decode(outputs[0]))"
      ],
      "execution_count": null,
      "outputs": [
        {
          "output_type": "stream",
          "text": [
            "i tried to use yubikey on the ubuntu 16.04 and it works fine. i tried to use it on the ubuntu 16.04 and it works fine. i tried to use it\n"
          ],
          "name": "stdout"
        }
      ]
    },
    {
      "cell_type": "code",
      "metadata": {
        "id": "r_7Ov1bnqvBY",
        "colab": {
          "base_uri": "https://localhost:8080/",
          "height": 87
        },
        "outputId": "0c903d8c-2cd9-4514-a92e-480611416174"
      },
      "source": [
        "asa = data.sample(1)\n",
        "asa = asa.body.to_list()[0]\n",
        "print(asa)\n",
        "print(\"_____________________________\")\n",
        "input_ids = tokenizer.encode(asa, return_tensors=\"pt\")  # Batch size 1\n",
        "outputs = model.generate(input_ids,50)\n",
        "print(tokenizer.decode(outputs[0]))"
      ],
      "execution_count": null,
      "outputs": [
        {
          "output_type": "stream",
          "text": [
            "user story as a user i see false positives being generated by the find_backdoors plugin when the server echoes back the filename in the response body. for example, when the plugin sends a test for phantasma.php and in the response the 404 handler generates an html containing: phantasma.php not found , the signatures.txt signature phantasma will be found and the false positive is triggered. related with pull request https://github.com/andresriancho/w3af/pull/14784 fix - identify stricter signatures to prevent false positives - analyze the possibility of using get_clean_body which would remove the request filename from the response\n",
            "_____________________________\n",
            "i'm trying to use the 'https://github.com/andresriancho/andresriancho/blob/master/src/main/java/java/java/java/\n"
          ],
          "name": "stdout"
        }
      ]
    },
    {
      "cell_type": "code",
      "metadata": {
        "id": "jEg2IrmNsqvz",
        "colab": {
          "base_uri": "https://localhost:8080/",
          "height": 87
        },
        "outputId": "799e0f53-4ca8-42d6-90dc-0411071b74b1"
      },
      "source": [
        "asa = data.sample(1)\n",
        "asa = asa.body.to_list()[0]\n",
        "print(asa)\n",
        "print(\"_____________________________\")\n",
        "input_ids = tokenizer.encode(asa, return_tensors=\"pt\")  # Batch size 1\n",
        "outputs = model.generate(input_ids,50)\n",
        "print(tokenizer.decode(outputs[0]))"
      ],
      "execution_count": null,
      "outputs": [
        {
          "output_type": "stream",
          "text": [
            "i don't know if this is a immersiveengineering's bug, but the projector is showing a green pass on other mods' steel blocks i was using thermalexpansion's steel blocks, and had to change them into ie's .\n",
            "_____________________________\n",
            "i'm using a sdk with a sdk and i'm using a sdk with a sdk. i'm using a sdk\n"
          ],
          "name": "stdout"
        }
      ]
    },
    {
      "cell_type": "code",
      "metadata": {
        "id": "ERAUySmLsvDX",
        "colab": {
          "base_uri": "https://localhost:8080/",
          "height": 87
        },
        "outputId": "69de95ea-e5ee-4940-e60e-03f137a9eee2"
      },
      "source": [
        "asa = data.sample(1)\n",
        "asa = asa.body.to_list()[0]\n",
        "print(asa)\n",
        "print(\"_____________________________\")\n",
        "input_ids = tokenizer.encode(asa, return_tensors=\"pt\")  # Batch size 1\n",
        "outputs = model.generate(input_ids,50)\n",
        "print(tokenizer.decode(outputs[0]))"
      ],
      "execution_count": null,
      "outputs": [
        {
          "output_type": "stream",
          "text": [
            "ocamlpackages.csv-1.7 in nixos-17.09 cannot be installed due to a deprecated source url. i could not find a valid link for 1.7, but 2.0 which is in unstable works fine. should this be bumped? steps to reproduce nix-shell -p ocamlpackages.csv -i nixpkgs=https://github.com/nixos/nixpkgs-channels/archive/nixos-17.09.tar.gz ... trying https://math.umons.ac.be/anum/software/csv/csv-1.7.tar.gz % total % received % xferd average speed time time time current dload upload total spent left speed 0 0 0 0 0 0 0 0 --:--:-- --:--:-- --:--:-- 0 curl: 22 the requested url returned error: 404 not found ...\n",
            "_____________________________\n",
            "i'm trying to use nixpkgs to create a new nixpkgs.csv file. i'm getting this error: nixpkgs.csv \n"
          ],
          "name": "stdout"
        }
      ]
    },
    {
      "cell_type": "code",
      "metadata": {
        "id": "CPK5nfHStiOY",
        "colab": {
          "base_uri": "https://localhost:8080/",
          "height": 87
        },
        "outputId": "b5e195c8-b2ba-496b-df26-3001264888fe"
      },
      "source": [
        "asa = data.sample(1)\n",
        "asa = asa.body.to_list()[0]\n",
        "print(asa)\n",
        "print(\"_____________________________\")\n",
        "input_ids = tokenizer.encode(asa, return_tensors=\"pt\")  # Batch size 1\n",
        "outputs = model.generate(input_ids,50)\n",
        "print(tokenizer.decode(outputs[0]))"
      ],
      "execution_count": null,
      "outputs": [
        {
          "output_type": "stream",
          "text": [
            "using scala 2.12.3: scala object test { val x: object => unit = a => println hi } an adapted method is created, i don't think this is necessary: java % javap -c test\\$ ... public static final void $anonfun$x$1 java.lang.object ; code: 0: getstatic 32 // field scala/predef$.module$:lscala/predef$; 3: ldc 34 // string hi 5: invokevirtual 37 // method scala/predef$.println: ljava/lang/object; v 8: return public static final java.lang.object $anonfun$x$1$adapted java.lang.object ; code: 0: aload_0 1: invokestatic 63 // method $anonfun$x$1: ljava/lang/object; v 4: getstatic 69 // field scala/runtime/boxedunit.unit:lscala/runtime/boxedunit; 7: areturn\n",
            "_____________________________\n",
            "i'm trying to use scala v2 and i'm getting the following error: java.lang.object.getstatic.getstatic.getstatic.getstatic.getstatic.getstatic.\n"
          ],
          "name": "stdout"
        }
      ]
    },
    {
      "cell_type": "code",
      "metadata": {
        "id": "0oPVvloLtmKF",
        "colab": {
          "base_uri": "https://localhost:8080/",
          "height": 67
        },
        "outputId": "6d0f3f68-9f41-4b03-e52f-3de9a40606f2"
      },
      "source": [
        "asa = data.sample(1)\n",
        "asa = asa.body.to_list()[0]\n",
        "print(asa)\n",
        "print(\"_____________________________\")\n",
        "input_ids = tokenizer.encode(asa, return_tensors=\"pt\")  # Batch size 1\n",
        "outputs = model.generate(input_ids,50)\n",
        "print(tokenizer.decode(outputs[0]))"
      ],
      "execution_count": null,
      "outputs": [
        {
          "output_type": "stream",
          "text": [
            "check and try http://avatars.adorable.io/ api to display users avatar next to the user name.\n",
            "_____________________________\n",
            "i'm trying to use a api to display the user's avatar. i'm using a sdk api and i'm using a sdk api. i\n"
          ],
          "name": "stdout"
        }
      ]
    },
    {
      "cell_type": "code",
      "metadata": {
        "id": "hkC7LdvXtqhX",
        "colab": {
          "base_uri": "https://localhost:8080/",
          "height": 67
        },
        "outputId": "6b74ad85-b89e-4d9b-c4fd-602d45a4af6a"
      },
      "source": [
        "asa = data.sample(1)\n",
        "asa = asa.body.to_list()[0]\n",
        "print(asa)\n",
        "print(\"_____________________________\")\n",
        "input_ids = tokenizer.encode(asa, return_tensors=\"pt\")  # Batch size 1\n",
        "outputs = model.generate(input_ids,50)\n",
        "print(tokenizer.decode(outputs[0]))"
      ],
      "execution_count": null,
      "outputs": [
        {
          "output_type": "stream",
          "text": [
            "got ! unable to find a specification for docusignesign ~> 3.0.1\n",
            "_____________________________\n",
            "i'm trying to use a sdk for a project that uses a sdk. i'm getting this error: unable to find a specification for docusignesign  ⁇ \n"
          ],
          "name": "stdout"
        }
      ]
    },
    {
      "cell_type": "code",
      "metadata": {
        "id": "0-BpzYSgturo",
        "colab": {
          "base_uri": "https://localhost:8080/",
          "height": 87
        },
        "outputId": "5f2d27d0-4aa4-49d5-c072-97c7b55f4901"
      },
      "source": [
        "asa = data.sample(1)\n",
        "asa = asa.body.to_list()[0]\n",
        "print(asa)\n",
        "print(\"_____________________________\")\n",
        "input_ids = tokenizer.encode(asa, return_tensors=\"pt\")  # Batch size 1\n",
        "outputs = model.generate(input_ids,50)\n",
        "print(tokenizer.decode(outputs[0]))"
      ],
      "execution_count": null,
      "outputs": [
        {
          "output_type": "stream",
          "text": [
            "hello, crosstalk is used with plotly since at least version 4.7.0. to make sure that plotly behaves properly, crosstalk javascript objects should be loaded and initialized before those of plotly. the problem is that crosstalk is loaded only upon request, right before loading of plotly, not at the beginning of the html page lifecycle. attached is a minimal example that will not replicate the issue but show the sequence of how javascripts files are loaded. shinycrosstalkbootstrappage.zip https://github.com/rstudio/shiny/files/1444145/shinycrosstalkbootstrappage.zip\n",
            "_____________________________\n",
            "i'm trying to use a javascript file to load the javascript files. i'm using a javascript file and i'm getting the following error: javascript'simpl\n"
          ],
          "name": "stdout"
        }
      ]
    },
    {
      "cell_type": "code",
      "metadata": {
        "id": "SbIwkRaktxjN",
        "colab": {
          "base_uri": "https://localhost:8080/",
          "height": 87
        },
        "outputId": "c77fbaa7-d16b-4825-c7bb-476e4dbd99fc"
      },
      "source": [
        "asa = data.sample(1)\n",
        "asa = asa.body.to_list()[0]\n",
        "print(asa)\n",
        "print(\"_____________________________\")\n",
        "input_ids = tokenizer.encode(asa, return_tensors=\"pt\")  # Batch size 1\n",
        "outputs = model.generate(input_ids,50)\n",
        "print(tokenizer.decode(outputs[0]))"
      ],
      "execution_count": null,
      "outputs": [
        {
          "output_type": "stream",
          "text": [
            "as we will be integrating other small tools: ocsd-tabulate https://github.com/open-contracting/ocds-tabulate mapping-sheet-generator https://github.com/open-contracting/mapping-sheet-generator\n",
            "_____________________________\n",
            "- ocsd-tabulate https://github.com/open-contracting/mapping-sheet-generator - ocsd-tabulate https://github.com/open\n"
          ],
          "name": "stdout"
        }
      ]
    },
    {
      "cell_type": "code",
      "metadata": {
        "id": "roosjJLgtzxd",
        "colab": {
          "base_uri": "https://localhost:8080/",
          "height": 87
        },
        "outputId": "ffdde391-2f90-4fbc-dd9a-8d6f70636162"
      },
      "source": [
        "asa = data.sample(1)\n",
        "asa = asa.body.to_list()[0]\n",
        "print(asa)\n",
        "print(\"_____________________________\")\n",
        "input_ids = tokenizer.encode(asa, return_tensors=\"pt\")  # Batch size 1\n",
        "outputs = model.generate(input_ids,50)\n",
        "print(tokenizer.decode(outputs[0]))"
      ],
      "execution_count": null,
      "outputs": [
        {
          "output_type": "stream",
          "text": [
            "please try to fix insecure temp file handling in your installer paths as tmplog=/tmp/pihole-install.log are an invitation to exploit such temp file vulnerabilities . i just tried to fix similar issues in armbian-config https://github.com/armbian/config/commit/85befd04b4e6513ea7c3069af413468660de1925 from where most armbian users will install pi-hole from in the future. please also check https://forum.armbian.com/index.php?/topic/3170-pi-hole-on-an-orange-pi-zero-temperature-readout/&do=findcomment&comment=39576\n",
            "_____________________________\n",
            "i'm trying to install a python python python python python python python python\n"
          ],
          "name": "stdout"
        }
      ]
    },
    {
      "cell_type": "code",
      "metadata": {
        "id": "2_m4NjQdt2bb",
        "colab": {
          "base_uri": "https://localhost:8080/",
          "height": 67
        },
        "outputId": "73060c96-262d-4fb3-d6ad-9cd8580eac7c"
      },
      "source": [
        "asa = data.sample(1)\n",
        "asa = asa.body.to_list()[0]\n",
        "print(asa)\n",
        "print(\"_____________________________\")\n",
        "input_ids = tokenizer.encode(asa, return_tensors=\"pt\")  # Batch size 1\n",
        "outputs = model.generate(input_ids,50)\n",
        "print(tokenizer.decode(outputs[0]))"
      ],
      "execution_count": null,
      "outputs": [
        {
          "output_type": "stream",
          "text": [
            "like this one: https://github.com/camptocamp/ngeo/blob/master/contribs/gmf/src/directives/displayquerygrid.js l205-l210 it should be moved in the $oninit function ng 1.6\n",
            "_____________________________\n",
            "i'm trying to use a l205-l210 function to create a gmf file. i'm using a gmf file and i'm getting the following error: \n"
          ],
          "name": "stdout"
        }
      ]
    },
    {
      "cell_type": "code",
      "metadata": {
        "id": "Sy1zePRVt5Hb",
        "colab": {
          "base_uri": "https://localhost:8080/",
          "height": 67
        },
        "outputId": "a4c2d3a0-70a6-42a2-cc8e-5c5c918620a5"
      },
      "source": [
        "asa = data.sample(1)\n",
        "asa = asa.body.to_list()[0]\n",
        "print(asa)\n",
        "print(\"_____________________________\")\n",
        "input_ids = tokenizer.encode(asa, return_tensors=\"pt\")  # Batch size 1\n",
        "outputs = model.generate(input_ids,50)\n",
        "print(tokenizer.decode(outputs[0]))"
      ],
      "execution_count": null,
      "outputs": [
        {
          "output_type": "stream",
          "text": [
            "please add to hugo themes site if everything checks out : https://github.com/vickylaixy/hugo-theme-introduction\n",
            "_____________________________\n",
            "- vscode version: code 1.11.1 - os version: windows 10 - os version: windows 10 - os version: windows 10 - os version: windows 10 \n"
          ],
          "name": "stdout"
        }
      ]
    }
  ]
}